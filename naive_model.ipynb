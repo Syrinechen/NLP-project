{
 "cells": [
  {
   "cell_type": "code",
   "execution_count": 178,
   "metadata": {},
   "outputs": [],
   "source": [
    "import pandas as pd\n",
    "import numpy as np \n",
    "import preprocess\n",
    "import ast\n",
    "from tqdm import tqdm\n",
    "from sklearn.model_selection import train_test_split\n",
    "import random\n",
    "from sklearn.metrics import precision_score, accuracy_score, f1_score"
   ]
  },
  {
   "cell_type": "code",
   "execution_count": 4,
   "metadata": {},
   "outputs": [],
   "source": [
    "entity_types=preprocess.literal2tag"
   ]
  },
  {
   "cell_type": "code",
   "execution_count": 6,
   "metadata": {},
   "outputs": [
    {
     "data": {
      "text/plain": [
       "['age',\n",
       " 'birth_date',\n",
       " 'civil_status',\n",
       " 'education_level',\n",
       " 'employer',\n",
       " 'firstname',\n",
       " 'link',\n",
       " 'lob',\n",
       " 'maiden_name',\n",
       " 'nationality',\n",
       " 'observation',\n",
       " 'occupation',\n",
       " 'surname',\n",
       " 'surname_household']"
      ]
     },
     "execution_count": 6,
     "metadata": {},
     "output_type": "execute_result"
    }
   ],
   "source": [
    "entity_types"
   ]
  },
  {
   "cell_type": "code",
   "execution_count": 164,
   "metadata": {},
   "outputs": [],
   "source": [
    "df=pd.read_csv('data.csv')\n",
    "train,test=train_test_split(df,test_size=0.2)"
   ]
  },
  {
   "cell_type": "code",
   "execution_count": 151,
   "metadata": {},
   "outputs": [
    {
     "data": {
      "text/html": [
       "<div>\n",
       "<style scoped>\n",
       "    .dataframe tbody tr th:only-of-type {\n",
       "        vertical-align: middle;\n",
       "    }\n",
       "\n",
       "    .dataframe tbody tr th {\n",
       "        vertical-align: top;\n",
       "    }\n",
       "\n",
       "    .dataframe thead th {\n",
       "        text-align: right;\n",
       "    }\n",
       "</style>\n",
       "<table border=\"1\" class=\"dataframe\">\n",
       "  <thead>\n",
       "    <tr style=\"text-align: right;\">\n",
       "      <th></th>\n",
       "      <th>text</th>\n",
       "      <th>labels</th>\n",
       "    </tr>\n",
       "  </thead>\n",
       "  <tbody>\n",
       "    <tr>\n",
       "      <th>13820</th>\n",
       "      <td>['Badet', 'Eugène', 'leur fils', '6']</td>\n",
       "      <td>['surname', 'firstname', 'link', 'age']</td>\n",
       "    </tr>\n",
       "    <tr>\n",
       "      <th>15666</th>\n",
       "      <td>['Lacroix', 'Marie', 'couturière', 'chef']</td>\n",
       "      <td>['surname', 'firstname', 'occupation', 'link']</td>\n",
       "    </tr>\n",
       "    <tr>\n",
       "      <th>9352</th>\n",
       "      <td>['Quinsau', 'Marie', 'femme']</td>\n",
       "      <td>['surname', 'firstname', 'link']</td>\n",
       "    </tr>\n",
       "    <tr>\n",
       "      <th>20240</th>\n",
       "      <td>['Michot', 'Jean', 'propriétaire', '71']</td>\n",
       "      <td>['surname', 'firstname', 'occupation', 'age']</td>\n",
       "    </tr>\n",
       "    <tr>\n",
       "      <th>12967</th>\n",
       "      <td>['Jacquinot', 'Marcel', 'enfant', '2']</td>\n",
       "      <td>['surname', 'firstname', 'link', 'age']</td>\n",
       "    </tr>\n",
       "    <tr>\n",
       "      <th>...</th>\n",
       "      <td>...</td>\n",
       "      <td>...</td>\n",
       "    </tr>\n",
       "    <tr>\n",
       "      <th>20975</th>\n",
       "      <td>['Coz', 'Yves', 'tysserand', '52', 'Homme marié']</td>\n",
       "      <td>['surname_household', 'firstname', 'occupation...</td>\n",
       "    </tr>\n",
       "    <tr>\n",
       "      <th>4914</th>\n",
       "      <td>['Pensivy', 'Jean', 'cultiv', 'domestique', 'D...</td>\n",
       "      <td>['surname', 'firstname', 'occupation', 'link',...</td>\n",
       "    </tr>\n",
       "    <tr>\n",
       "      <th>22497</th>\n",
       "      <td>['St Ropts', 'Michel', 'tuilier', '36']</td>\n",
       "      <td>['surname', 'firstname', 'occupation', 'age']</td>\n",
       "    </tr>\n",
       "    <tr>\n",
       "      <th>22766</th>\n",
       "      <td>['Peltreau', 'Marie', 'aubergiste', 'femme', '...</td>\n",
       "      <td>['surname', 'firstname', 'occupation', 'link',...</td>\n",
       "    </tr>\n",
       "    <tr>\n",
       "      <th>12435</th>\n",
       "      <td>['Corgnet', 'Maurice', 'charretier', 'charreti...</td>\n",
       "      <td>['surname', 'firstname', 'occupation', 'link',...</td>\n",
       "    </tr>\n",
       "  </tbody>\n",
       "</table>\n",
       "<p>18443 rows × 2 columns</p>\n",
       "</div>"
      ],
      "text/plain": [
       "                                                    text  \\\n",
       "13820              ['Badet', 'Eugène', 'leur fils', '6']   \n",
       "15666         ['Lacroix', 'Marie', 'couturière', 'chef']   \n",
       "9352                       ['Quinsau', 'Marie', 'femme']   \n",
       "20240           ['Michot', 'Jean', 'propriétaire', '71']   \n",
       "12967             ['Jacquinot', 'Marcel', 'enfant', '2']   \n",
       "...                                                  ...   \n",
       "20975  ['Coz', 'Yves', 'tysserand', '52', 'Homme marié']   \n",
       "4914   ['Pensivy', 'Jean', 'cultiv', 'domestique', 'D...   \n",
       "22497            ['St Ropts', 'Michel', 'tuilier', '36']   \n",
       "22766  ['Peltreau', 'Marie', 'aubergiste', 'femme', '...   \n",
       "12435  ['Corgnet', 'Maurice', 'charretier', 'charreti...   \n",
       "\n",
       "                                                  labels  \n",
       "13820            ['surname', 'firstname', 'link', 'age']  \n",
       "15666     ['surname', 'firstname', 'occupation', 'link']  \n",
       "9352                    ['surname', 'firstname', 'link']  \n",
       "20240      ['surname', 'firstname', 'occupation', 'age']  \n",
       "12967            ['surname', 'firstname', 'link', 'age']  \n",
       "...                                                  ...  \n",
       "20975  ['surname_household', 'firstname', 'occupation...  \n",
       "4914   ['surname', 'firstname', 'occupation', 'link',...  \n",
       "22497      ['surname', 'firstname', 'occupation', 'age']  \n",
       "22766  ['surname', 'firstname', 'occupation', 'link',...  \n",
       "12435  ['surname', 'firstname', 'occupation', 'link',...  \n",
       "\n",
       "[18443 rows x 2 columns]"
      ]
     },
     "execution_count": 151,
     "metadata": {},
     "output_type": "execute_result"
    }
   ],
   "source": [
    "train"
   ]
  },
  {
   "cell_type": "code",
   "execution_count": 165,
   "metadata": {},
   "outputs": [],
   "source": [
    "def get_token_values(df):\n",
    "    token_values = {}\n",
    "\n",
    "    # Iterate through each row in the DataFrame\n",
    "    for index, row in df.iterrows():\n",
    "        labels = ast.literal_eval(row['labels'])\n",
    "        texts=ast.literal_eval(row['text'])\n",
    "\n",
    "        # Iterate through each label in the row\n",
    "        for i in range(len(labels)):\n",
    "            # If the label is not already in the token_values dictionary, add it with an empty set\n",
    "            if labels[i] not in token_values:\n",
    "                token_values[labels[i]] = set()\n",
    "            # Add the token value to the set for this label\n",
    "            token_values[labels[i]].add(texts[i])\n",
    "\n",
    "    return token_values"
   ]
  },
  {
   "cell_type": "code",
   "execution_count": 166,
   "metadata": {},
   "outputs": [],
   "source": [
    "entities_by_type=get_token_values(train)"
   ]
  },
  {
   "cell_type": "code",
   "execution_count": 175,
   "metadata": {},
   "outputs": [],
   "source": [
    "def naive_ner_baseline(text):\n",
    "    predicted_tags=['' for i in range(len(text))]\n",
    "    capital_letters=0\n",
    "    for i in range(len(text)):\n",
    "        token=text[i]\n",
    "        if (token.isdigit() and int(token)>0 and int(token)<120):\n",
    "            predicted_tags[i]='age'\n",
    "        elif (token.isdigit() and int(token)<2000 and int(token)>1725):\n",
    "            predicted_tags[i]='birth_date'\n",
    "        elif token in entities_by_type['civil_status']:\n",
    "            predicted_tags[i]='civil_status'\n",
    "        elif token[0].isupper() and capital_letters==0:\n",
    "            predicted_tags[i]=random.choice(['surname', 'surname_household'])\n",
    "            capital_letters+=1\n",
    "        elif token[0].isupper() and capital_letters==1:\n",
    "            predicted_tags[i]='firstname'\n",
    "            capital_letters+=1\n",
    "        elif token[0].isupper() and capital_letters==2:\n",
    "            predicted_tags[i]='employer'\n",
    "        elif token in (entities_by_type['nationality']):\n",
    "            predicted_tags[i]='nationality'\n",
    "        elif predicted_tags[i] == 'surname' or predicted_tags[i] == 'firstname':\n",
    "            continue  # Skip further processing if already classified as surname or firstname\n",
    "        elif token in entities_by_type['occupation']:\n",
    "            predicted_tags[i]='occupation'\n",
    "        else:\n",
    "            for word in token.split(' '):\n",
    "                if word in ({'fils','fille','enfant','ménage','de','époux','épouse'}):\n",
    "                    predicted_tags[i]='link'\n",
    "        \n",
    "    return str(predicted_tags)\n",
    "        "
   ]
  },
  {
   "cell_type": "code",
   "execution_count": 176,
   "metadata": {},
   "outputs": [
    {
     "name": "stderr",
     "output_type": "stream",
     "text": [
      "100%|██████████| 4611/4611 [00:00<00:00, 7269.22it/s]\n"
     ]
    }
   ],
   "source": [
    "for i in tqdm(list(test.index)):\n",
    "    test.loc[i,'predicted_tags']=naive_ner_baseline(ast.literal_eval(test.loc[i,'text']))"
   ]
  },
  {
   "cell_type": "code",
   "execution_count": 177,
   "metadata": {},
   "outputs": [
    {
     "data": {
      "text/html": [
       "<div>\n",
       "<style scoped>\n",
       "    .dataframe tbody tr th:only-of-type {\n",
       "        vertical-align: middle;\n",
       "    }\n",
       "\n",
       "    .dataframe tbody tr th {\n",
       "        vertical-align: top;\n",
       "    }\n",
       "\n",
       "    .dataframe thead th {\n",
       "        text-align: right;\n",
       "    }\n",
       "</style>\n",
       "<table border=\"1\" class=\"dataframe\">\n",
       "  <thead>\n",
       "    <tr style=\"text-align: right;\">\n",
       "      <th></th>\n",
       "      <th>text</th>\n",
       "      <th>labels</th>\n",
       "      <th>predicted_tags</th>\n",
       "    </tr>\n",
       "  </thead>\n",
       "  <tbody>\n",
       "    <tr>\n",
       "      <th>297</th>\n",
       "      <td>['Le Meur', 'Marie', 'couturière', 'seule', '27']</td>\n",
       "      <td>['surname_household', 'firstname', 'occupation...</td>\n",
       "      <td>['surname_household', 'firstname', 'occupation...</td>\n",
       "    </tr>\n",
       "    <tr>\n",
       "      <th>2618</th>\n",
       "      <td>['Robichon', 'Marguerite', 'employée', 'femme'...</td>\n",
       "      <td>['surname', 'firstname', 'occupation', 'link',...</td>\n",
       "      <td>['surname_household', 'firstname', 'occupation...</td>\n",
       "    </tr>\n",
       "    <tr>\n",
       "      <th>3714</th>\n",
       "      <td>['Goupil', 'Almire', 'chauffeur livreur', 'che...</td>\n",
       "      <td>['surname_household', 'firstname', 'occupation...</td>\n",
       "      <td>['surname', 'firstname', '', 'occupation', '',...</td>\n",
       "    </tr>\n",
       "    <tr>\n",
       "      <th>2540</th>\n",
       "      <td>['Armandin', 'Marie', 'cuisinière', 'domestiqu...</td>\n",
       "      <td>['surname', 'firstname', 'occupation', 'link',...</td>\n",
       "      <td>['surname', 'firstname', 'occupation', 'occupa...</td>\n",
       "    </tr>\n",
       "    <tr>\n",
       "      <th>20338</th>\n",
       "      <td>['Paquereau', 'Henri', 'domestique', 'chef', '...</td>\n",
       "      <td>['surname', 'firstname', 'occupation', 'link',...</td>\n",
       "      <td>['surname_household', 'firstname', 'occupation...</td>\n",
       "    </tr>\n",
       "    <tr>\n",
       "      <th>...</th>\n",
       "      <td>...</td>\n",
       "      <td>...</td>\n",
       "      <td>...</td>\n",
       "    </tr>\n",
       "    <tr>\n",
       "      <th>11700</th>\n",
       "      <td>['Niel', 'André', 's.p', 'fils 2ème lit', '192...</td>\n",
       "      <td>['surname', 'firstname', 'occupation', 'link',...</td>\n",
       "      <td>['surname', 'firstname', 'occupation', 'link',...</td>\n",
       "    </tr>\n",
       "    <tr>\n",
       "      <th>15296</th>\n",
       "      <td>['Dufieux', 'Marcel', 'Cultivateur', 'Chef', '...</td>\n",
       "      <td>['surname_household', 'firstname', 'occupation...</td>\n",
       "      <td>['surname_household', 'firstname', 'employer',...</td>\n",
       "    </tr>\n",
       "    <tr>\n",
       "      <th>3543</th>\n",
       "      <td>['Gallet', 'Amélie', 's.p', 'épouse', '36']</td>\n",
       "      <td>['surname', 'firstname', 'occupation', 'link',...</td>\n",
       "      <td>['surname', 'firstname', 'occupation', 'occupa...</td>\n",
       "    </tr>\n",
       "    <tr>\n",
       "      <th>11624</th>\n",
       "      <td>['Bulon', 'Marie', 'épouse', '41']</td>\n",
       "      <td>['surname', 'firstname', 'link', 'age']</td>\n",
       "      <td>['surname', 'firstname', 'occupation', 'age']</td>\n",
       "    </tr>\n",
       "    <tr>\n",
       "      <th>19161</th>\n",
       "      <td>['Souchet', 'Louise', '11']</td>\n",
       "      <td>['surname', 'firstname', 'age']</td>\n",
       "      <td>['surname_household', 'firstname', 'age']</td>\n",
       "    </tr>\n",
       "  </tbody>\n",
       "</table>\n",
       "<p>4611 rows × 3 columns</p>\n",
       "</div>"
      ],
      "text/plain": [
       "                                                    text  \\\n",
       "297    ['Le Meur', 'Marie', 'couturière', 'seule', '27']   \n",
       "2618   ['Robichon', 'Marguerite', 'employée', 'femme'...   \n",
       "3714   ['Goupil', 'Almire', 'chauffeur livreur', 'che...   \n",
       "2540   ['Armandin', 'Marie', 'cuisinière', 'domestiqu...   \n",
       "20338  ['Paquereau', 'Henri', 'domestique', 'chef', '...   \n",
       "...                                                  ...   \n",
       "11700  ['Niel', 'André', 's.p', 'fils 2ème lit', '192...   \n",
       "15296  ['Dufieux', 'Marcel', 'Cultivateur', 'Chef', '...   \n",
       "3543         ['Gallet', 'Amélie', 's.p', 'épouse', '36']   \n",
       "11624                 ['Bulon', 'Marie', 'épouse', '41']   \n",
       "19161                        ['Souchet', 'Louise', '11']   \n",
       "\n",
       "                                                  labels  \\\n",
       "297    ['surname_household', 'firstname', 'occupation...   \n",
       "2618   ['surname', 'firstname', 'occupation', 'link',...   \n",
       "3714   ['surname_household', 'firstname', 'occupation...   \n",
       "2540   ['surname', 'firstname', 'occupation', 'link',...   \n",
       "20338  ['surname', 'firstname', 'occupation', 'link',...   \n",
       "...                                                  ...   \n",
       "11700  ['surname', 'firstname', 'occupation', 'link',...   \n",
       "15296  ['surname_household', 'firstname', 'occupation...   \n",
       "3543   ['surname', 'firstname', 'occupation', 'link',...   \n",
       "11624            ['surname', 'firstname', 'link', 'age']   \n",
       "19161                    ['surname', 'firstname', 'age']   \n",
       "\n",
       "                                          predicted_tags  \n",
       "297    ['surname_household', 'firstname', 'occupation...  \n",
       "2618   ['surname_household', 'firstname', 'occupation...  \n",
       "3714   ['surname', 'firstname', '', 'occupation', '',...  \n",
       "2540   ['surname', 'firstname', 'occupation', 'occupa...  \n",
       "20338  ['surname_household', 'firstname', 'occupation...  \n",
       "...                                                  ...  \n",
       "11700  ['surname', 'firstname', 'occupation', 'link',...  \n",
       "15296  ['surname_household', 'firstname', 'employer',...  \n",
       "3543   ['surname', 'firstname', 'occupation', 'occupa...  \n",
       "11624      ['surname', 'firstname', 'occupation', 'age']  \n",
       "19161          ['surname_household', 'firstname', 'age']  \n",
       "\n",
       "[4611 rows x 3 columns]"
      ]
     },
     "execution_count": 177,
     "metadata": {},
     "output_type": "execute_result"
    }
   ],
   "source": [
    "test"
   ]
  },
  {
   "cell_type": "code",
   "execution_count": 200,
   "metadata": {},
   "outputs": [],
   "source": [
    "predictions=[ast.literal_eval(pred) for pred in test['predicted_tags'].values.tolist()]\n",
    "true_values=[ast.literal_eval(true) for true in test['labels'].values.tolist()]"
   ]
  },
  {
   "cell_type": "code",
   "execution_count": 236,
   "metadata": {},
   "outputs": [],
   "source": [
    "def calculate_accuracy(predictions,true_values):\n",
    "    acc=0\n",
    "    length=0\n",
    "    for i in range (len(predictions)):\n",
    "        length=length+len(predictions[i])\n",
    "        for j in range (len(predictions[i])):\n",
    "            if (predictions[i][j]==true_values[i][j]):\n",
    "                acc=acc+1\n",
    "    return acc/length\n",
    "            "
   ]
  },
  {
   "cell_type": "code",
   "execution_count": 239,
   "metadata": {},
   "outputs": [],
   "source": [
    "from sklearn.metrics import precision_score, f1_score\n",
    "\n",
    "def calculate_precision(predictions, true_values):\n",
    "    # Flatten the predictions and true values\n",
    "    flat_predictions = [item for sublist in predictions for item in sublist]\n",
    "    flat_true_values = [item for sublist in true_values for item in sublist]\n",
    "    # Calculate precision\n",
    "    precision = precision_score(flat_true_values, flat_predictions, average='weighted')\n",
    "    return precision\n",
    "\n",
    "def calculate_f1_score(predictions, true_values):\n",
    "    # Flatten the predictions and true values\n",
    "    flat_predictions = [item for sublist in predictions for item in sublist]\n",
    "    flat_true_values = [item for sublist in true_values for item in sublist]\n",
    "    # Calculate F1 score\n",
    "    f1 = f1_score(flat_true_values, flat_predictions, average='weighted')\n",
    "    return f1\n"
   ]
  },
  {
   "cell_type": "code",
   "execution_count": 238,
   "metadata": {},
   "outputs": [
    {
     "data": {
      "text/plain": [
       "0.7179417493318838"
      ]
     },
     "execution_count": 238,
     "metadata": {},
     "output_type": "execute_result"
    }
   ],
   "source": [
    "calculate_accuracy(predictions,true_values)"
   ]
  },
  {
   "cell_type": "code",
   "execution_count": 240,
   "metadata": {},
   "outputs": [
    {
     "name": "stderr",
     "output_type": "stream",
     "text": [
      "/home/syrine/.local/lib/python3.10/site-packages/sklearn/metrics/_classification.py:1469: UndefinedMetricWarning: Precision is ill-defined and being set to 0.0 in labels with no predicted samples. Use `zero_division` parameter to control this behavior.\n",
      "  _warn_prf(average, modifier, msg_start, len(result))\n"
     ]
    },
    {
     "data": {
      "text/plain": [
       "0.8271476211472977"
      ]
     },
     "execution_count": 240,
     "metadata": {},
     "output_type": "execute_result"
    }
   ],
   "source": [
    "calculate_precision(predictions,true_values)"
   ]
  },
  {
   "cell_type": "code",
   "execution_count": 241,
   "metadata": {},
   "outputs": [
    {
     "data": {
      "text/plain": [
       "0.7109272450702819"
      ]
     },
     "execution_count": 241,
     "metadata": {},
     "output_type": "execute_result"
    }
   ],
   "source": [
    "calculate_f1_score(predictions,true_values)"
   ]
  }
 ],
 "metadata": {
  "kernelspec": {
   "display_name": "Python 3",
   "language": "python",
   "name": "python3"
  },
  "language_info": {
   "codemirror_mode": {
    "name": "ipython",
    "version": 3
   },
   "file_extension": ".py",
   "mimetype": "text/x-python",
   "name": "python",
   "nbconvert_exporter": "python",
   "pygments_lexer": "ipython3",
   "version": "3.10.12"
  }
 },
 "nbformat": 4,
 "nbformat_minor": 2
}
